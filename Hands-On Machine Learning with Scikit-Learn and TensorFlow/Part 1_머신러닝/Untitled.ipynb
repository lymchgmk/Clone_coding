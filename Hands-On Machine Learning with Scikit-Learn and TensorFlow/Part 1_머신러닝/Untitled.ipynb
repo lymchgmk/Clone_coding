{
 "cells": [
  {
   "cell_type": "markdown",
   "metadata": {},
   "source": [
    "### 3.3.3 정밀도와 재현율\n",
    "\n",
    "- **F1 점수 F1 score** 라고 하는 하나의 숫자로 만들어 정밀도와 재현율을 표기\n",
    "  - 특히, 두 분류기를 비교할 때 유용\n",
    "  - **F1 점수** 는 정밀도와 재현율의 ***조화 평균 Harmonic mean***"
   ]
  },
  {
   "cell_type": "code",
   "execution_count": null,
   "metadata": {},
   "outputs": [],
   "source": []
  }
 ],
 "metadata": {
  "kernelspec": {
   "display_name": "Python 3",
   "language": "python",
   "name": "python3"
  },
  "language_info": {
   "codemirror_mode": {
    "name": "ipython",
    "version": 3
   },
   "file_extension": ".py",
   "mimetype": "text/x-python",
   "name": "python",
   "nbconvert_exporter": "python",
   "pygments_lexer": "ipython3",
   "version": "3.8.5"
  }
 },
 "nbformat": 4,
 "nbformat_minor": 4
}
